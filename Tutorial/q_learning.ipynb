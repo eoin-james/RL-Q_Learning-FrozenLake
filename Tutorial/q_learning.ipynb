{
 "cells": [
  {
   "cell_type": "markdown",
   "source": [
    "# Q Learning\n",
    "## A type of Temporal Difference Reinforcement Learning"
   ],
   "metadata": {
    "collapsed": false,
    "pycharm": {
     "name": "#%% md\n"
    }
   }
  },
  {
   "cell_type": "markdown",
   "source": [
    "A Reinforcement learning problem involves learning what actions to take in a given situation as to maximise a numerical reward. There are many methods that can solve these problems such as Evolutionary algorithms and Policy Gradient methods. However, were going to look at a typical RL method below and probably the most popular method.\n",
    "\n",
    "\n",
    "\n",
    "Q Learning is concerned with"
   ],
   "metadata": {
    "collapsed": false,
    "pycharm": {
     "name": "#%% md\n"
    }
   }
  },
  {
   "cell_type": "markdown",
   "source": [
    "Install the required packages"
   ],
   "metadata": {
    "collapsed": false,
    "pycharm": {
     "name": "#%% md\n"
    }
   }
  },
  {
   "cell_type": "code",
   "execution_count": 1,
   "outputs": [],
   "source": [
    "!pip install 'gym[toy_text]' > /dev/null 2>&1  # > /dev/null 2>&1 stops the output log going to the console\n",
    "!pip install numpy pandas matplotlib opencv-python > /dev/null 2>&1\n",
    "\n",
    "!apt-get install x11-utils > /dev/null 2>&1\n",
    "!pip install pyglet > /dev/null 2>&1\n",
    "!apt-get install -y xvfb python-opengl > /dev/null 2>&1\n",
    "\n",
    "!pip install gym pyvirtualdisplay > /dev/null 2>&1"
   ],
   "metadata": {
    "collapsed": false,
    "pycharm": {
     "name": "#%%\n"
    }
   }
  },
  {
   "cell_type": "code",
   "execution_count": 8,
   "outputs": [],
   "source": [
    "import cv2\n",
    "import gym\n",
    "import numpy as np\n",
    "import pandas as pd\n",
    "from matplotlib import pyplot as plt\n",
    "from IPython import display as ipythondisplay\n",
    "# from pyvirtualdisplay import Display  # For Colab"
   ],
   "metadata": {
    "collapsed": false,
    "pycharm": {
     "name": "#%%\n"
    }
   }
  },
  {
   "cell_type": "code",
   "execution_count": 3,
   "outputs": [],
   "source": [
    "# display = Display(visible=0, size=(400, 300))  # For Colab\n",
    "# display.start()  # For Colab"
   ],
   "metadata": {
    "collapsed": false,
    "pycharm": {
     "name": "#%%\n"
    }
   }
  },
  {
   "cell_type": "markdown",
   "source": [
    "## The Environment - OpenAI Frozen Lake"
   ],
   "metadata": {
    "collapsed": false,
    "pycharm": {
     "name": "#%% md\n"
    }
   }
  },
  {
   "cell_type": "markdown",
   "source": [
    "First we need to create the [Environment](https://www.gymlibrary.ml/environments/toy_text/frozen_lake/) the agent will interact with."
   ],
   "metadata": {
    "collapsed": false,
    "pycharm": {
     "name": "#%% md\n"
    }
   }
  },
  {
   "cell_type": "code",
   "execution_count": 32,
   "outputs": [],
   "source": [
    "env = gym.make('FrozenLake-v1', desc=None, map_name='4x4', is_slippery=True, render_mode=\"rgb_array\")"
   ],
   "metadata": {
    "collapsed": false,
    "pycharm": {
     "name": "#%%\n"
    }
   }
  },
  {
   "cell_type": "markdown",
   "source": [
    "First, like every experiment, a seed needs to be set so that results can be reproduced. The seed is set for the action space as we will be using randomly selected actions,\n",
    "\n",
    "Juypeter rendering example found [here](https://stackoverflow.com/posts/52600239/revisions)"
   ],
   "metadata": {
    "collapsed": false,
    "pycharm": {
     "name": "#%% md\n"
    }
   }
  },
  {
   "cell_type": "code",
   "execution_count": 34,
   "outputs": [
    {
     "ename": "TypeError",
     "evalue": "'NoneType' object is not subscriptable",
     "output_type": "error",
     "traceback": [
      "\u001B[0;31m---------------------------------------------------------------------------\u001B[0m",
      "\u001B[0;31mTypeError\u001B[0m                                 Traceback (most recent call last)",
      "Input \u001B[0;32mIn [34]\u001B[0m, in \u001B[0;36m<cell line: 6>\u001B[0;34m()\u001B[0m\n\u001B[1;32m      3\u001B[0m colorway \u001B[38;5;241m=\u001B[39m cv2\u001B[38;5;241m.\u001B[39mCOLOR_RGB2BGR\n\u001B[1;32m      4\u001B[0m observation, info \u001B[38;5;241m=\u001B[39m env\u001B[38;5;241m.\u001B[39mreset(seed\u001B[38;5;241m=\u001B[39mseed, return_info\u001B[38;5;241m=\u001B[39m\u001B[38;5;28;01mTrue\u001B[39;00m)\n\u001B[0;32m----> 6\u001B[0m prev_screen \u001B[38;5;241m=\u001B[39m \u001B[43menv\u001B[49m\u001B[38;5;241;43m.\u001B[39;49m\u001B[43mrender\u001B[49m\u001B[43m(\u001B[49m\u001B[43m)\u001B[49m\u001B[43m[\u001B[49m\u001B[38;5;241;43m0\u001B[39;49m\u001B[43m]\u001B[49m\n\u001B[1;32m      7\u001B[0m \u001B[38;5;66;03m# prev_screen = cv2.cvtColor(prev_screen, colorway)\u001B[39;00m\n\u001B[1;32m      8\u001B[0m plt\u001B[38;5;241m.\u001B[39mimshow(prev_screen)\n",
      "\u001B[0;31mTypeError\u001B[0m: 'NoneType' object is not subscriptable"
     ]
    }
   ],
   "source": [
    "seed = 123\n",
    "env.action_space.seed(seed=seed)\n",
    "colorway = cv2.COLOR_RGB2BGR\n",
    "observation, info = env.reset(seed=seed, return_info=True)\n",
    "\n",
    "prev_screen = env.render()[0]\n",
    "# prev_screen = cv2.cvtColor(prev_screen, colorway)\n",
    "plt.imshow(prev_screen)\n",
    "\n",
    "done = False\n",
    "while not done:\n",
    "    action = env.action_space.sample()\n",
    "    observation, reward, done, info = env.step(action)\n",
    "\n",
    "    screen = env.render()[0]\n",
    "    # screen = cv2.cvtColor(screen, colorway)\n",
    "\n",
    "    plt.imshow(screen)\n",
    "    ipythondisplay.clear_output(wait=True)\n",
    "    ipythondisplay.display(plt.gcf())\n",
    "\n",
    "    if done:\n",
    "        print('Done')\n",
    "        env.reset()\n",
    "env.close()\n"
   ],
   "metadata": {
    "collapsed": false,
    "pycharm": {
     "name": "#%%\n"
    }
   }
  }
 ],
 "metadata": {
  "kernelspec": {
   "display_name": "Python 3",
   "language": "python",
   "name": "python3"
  },
  "language_info": {
   "codemirror_mode": {
    "name": "ipython",
    "version": 2
   },
   "file_extension": ".py",
   "mimetype": "text/x-python",
   "name": "python",
   "nbconvert_exporter": "python",
   "pygments_lexer": "ipython2",
   "version": "2.7.6"
  }
 },
 "nbformat": 4,
 "nbformat_minor": 0
}